{
 "cells": [
  {
   "cell_type": "code",
   "execution_count": 1,
   "metadata": {},
   "outputs": [
    {
     "name": "stdout",
     "output_type": "stream",
     "text": [
      "/root/share/Real/KAIST/word_chain/alphazero-general\n"
     ]
    }
   ],
   "source": [
    "%cd /root/share/Real/KAIST/word_chain/alphazero-general/\n",
    "%load_ext autoreload\n",
    "%autoreload 2   "
   ]
  },
  {
   "cell_type": "code",
   "execution_count": 2,
   "metadata": {},
   "outputs": [],
   "source": [
    "import numpy as np\n",
    "import pandas as pd\n",
    "from alphazero.utils import dueum\n",
    "from joblib import load, dump\n",
    "from torch_geometric.utils import dense_to_sparse\n",
    "import torch"
   ]
  },
  {
   "cell_type": "code",
   "execution_count": 13,
   "metadata": {},
   "outputs": [],
   "source": [
    "def construct_initial_mat():\n",
    "    \"\"\"\n",
    "    두음법칙 고려 없이 순수한 인접행렬 생성\n",
    "    \"\"\"\n",
    "    data = pd.read_csv(\"alphazero/envs/wordchain/data/20241113_scc.csv\")\n",
    "\n",
    "    head_list = data[\"앞말\"].unique()\n",
    "    tail_list = data[\"끝말\"].unique()\n",
    "    ch_list = np.union1d(head_list, tail_list)\n",
    "\n",
    "    idx2ch = list(ch_list)\n",
    "    for ch in idx2ch:\n",
    "        if (dueum(ch) not in idx2ch):\n",
    "            idx2ch.append(dueum(ch))\n",
    "            \n",
    "    ch2idx = dict()\n",
    "    for idx, ch in enumerate(idx2ch):\n",
    "        ch2idx[ch] = idx\n",
    "\n",
    "    adj_mat = np.zeros((len(idx2ch), len(idx2ch)))\n",
    "\n",
    "    for _, row in data.iterrows():\n",
    "        head_idx = ch2idx[row['앞말']]\n",
    "        tail_idx = ch2idx[row['끝말']]\n",
    "        adj_mat[head_idx][tail_idx] += 1\n",
    "\n",
    "    #참고\n",
    "    dueum_dict = {}\n",
    "    for idx in range(len(idx2ch)):\n",
    "        didx = ch2idx[dueum(idx2ch[idx])]\n",
    "        if idx != didx:\n",
    "            dueum_dict[idx] = didx\n",
    "    \n",
    "    \n",
    "\n",
    "    return ch2idx, idx2ch, dueum_dict, adj_mat"
   ]
  },
  {
   "cell_type": "code",
   "execution_count": 14,
   "metadata": {},
   "outputs": [],
   "source": [
    "ch2idx, idx2ch, dueum_dict, matrix = construct_initial_mat()\n",
    "edge_index, edge_weight = dense_to_sparse(torch.Tensor(matrix))"
   ]
  },
  {
   "cell_type": "code",
   "execution_count": 18,
   "metadata": {},
   "outputs": [],
   "source": [
    "#key를 edge_index (head, tail)로 하고 value를 edge의 순서로 하는 dict 생성\n",
    "edge_dict = dict()\n",
    "for i in range(edge_index.shape[1]):\n",
    "    edge_dict[(edge_index[0][i].item(), edge_index[1][i].item())] = i"
   ]
  },
  {
   "cell_type": "code",
   "execution_count": 19,
   "metadata": {},
   "outputs": [
    {
     "data": {
      "text/plain": [
       "['alphazero/envs/wordchain/data/initial_edge_index.pkl']"
      ]
     },
     "execution_count": 19,
     "metadata": {},
     "output_type": "execute_result"
    }
   ],
   "source": [
    "dump(edge_dict, \"alphazero/envs/wordchain/data/edge_dict.pkl\")\n",
    "dump(matrix, \"alphazero/envs/wordchain/data/initial_matrix.pkl\")\n",
    "dump(edge_weight, \"alphazero/envs/wordchain/data/initial_edge_weight.pkl\")\n",
    "dump(edge_index, \"alphazero/envs/wordchain/data/initial_edge_index.pkl\")"
   ]
  },
  {
   "cell_type": "code",
   "execution_count": null,
   "metadata": {},
   "outputs": [],
   "source": []
  }
 ],
 "metadata": {
  "kernelspec": {
   "display_name": "base",
   "language": "python",
   "name": "python3"
  },
  "language_info": {
   "codemirror_mode": {
    "name": "ipython",
    "version": 3
   },
   "file_extension": ".py",
   "mimetype": "text/x-python",
   "name": "python",
   "nbconvert_exporter": "python",
   "pygments_lexer": "ipython3",
   "version": "3.10.10"
  }
 },
 "nbformat": 4,
 "nbformat_minor": 2
}
